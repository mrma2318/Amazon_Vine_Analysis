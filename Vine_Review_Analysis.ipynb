{
 "cells": [
  {
   "cell_type": "code",
   "execution_count": 1,
   "id": "35cbc713",
   "metadata": {},
   "outputs": [],
   "source": [
    "import pandas as pd"
   ]
  },
  {
   "cell_type": "code",
   "execution_count": 2,
   "id": "492f6aeb",
   "metadata": {},
   "outputs": [
    {
     "data": {
      "text/html": [
       "<div>\n",
       "<style scoped>\n",
       "    .dataframe tbody tr th:only-of-type {\n",
       "        vertical-align: middle;\n",
       "    }\n",
       "\n",
       "    .dataframe tbody tr th {\n",
       "        vertical-align: top;\n",
       "    }\n",
       "\n",
       "    .dataframe thead th {\n",
       "        text-align: right;\n",
       "    }\n",
       "</style>\n",
       "<table border=\"1\" class=\"dataframe\">\n",
       "  <thead>\n",
       "    <tr style=\"text-align: right;\">\n",
       "      <th></th>\n",
       "      <th>review_id</th>\n",
       "      <th>star_rating</th>\n",
       "      <th>helpful_votes</th>\n",
       "      <th>total_votes</th>\n",
       "      <th>vine</th>\n",
       "      <th>verified_purchase</th>\n",
       "    </tr>\n",
       "  </thead>\n",
       "  <tbody>\n",
       "    <tr>\n",
       "      <th>0</th>\n",
       "      <td>R3EQSTM9PWRAL</td>\n",
       "      <td>3.0</td>\n",
       "      <td>0.0</td>\n",
       "      <td>0.0</td>\n",
       "      <td>N</td>\n",
       "      <td>Y</td>\n",
       "    </tr>\n",
       "    <tr>\n",
       "      <th>1</th>\n",
       "      <td>RBWPRK17XKIXD</td>\n",
       "      <td>5.0</td>\n",
       "      <td>0.0</td>\n",
       "      <td>0.0</td>\n",
       "      <td>N</td>\n",
       "      <td>Y</td>\n",
       "    </tr>\n",
       "    <tr>\n",
       "      <th>2</th>\n",
       "      <td>RRSLOAF273XFC</td>\n",
       "      <td>5.0</td>\n",
       "      <td>1.0</td>\n",
       "      <td>2.0</td>\n",
       "      <td>N</td>\n",
       "      <td>Y</td>\n",
       "    </tr>\n",
       "    <tr>\n",
       "      <th>3</th>\n",
       "      <td>R3S8W9Q6SWIT8O</td>\n",
       "      <td>4.0</td>\n",
       "      <td>0.0</td>\n",
       "      <td>0.0</td>\n",
       "      <td>N</td>\n",
       "      <td>Y</td>\n",
       "    </tr>\n",
       "    <tr>\n",
       "      <th>4</th>\n",
       "      <td>R3QQ6NSLRVBFJC</td>\n",
       "      <td>4.0</td>\n",
       "      <td>0.0</td>\n",
       "      <td>0.0</td>\n",
       "      <td>N</td>\n",
       "      <td>Y</td>\n",
       "    </tr>\n",
       "  </tbody>\n",
       "</table>\n",
       "</div>"
      ],
      "text/plain": [
       "        review_id  star_rating  helpful_votes  total_votes vine  \\\n",
       "0   R3EQSTM9PWRAL          3.0            0.0          0.0    N   \n",
       "1   RBWPRK17XKIXD          5.0            0.0          0.0    N   \n",
       "2   RRSLOAF273XFC          5.0            1.0          2.0    N   \n",
       "3  R3S8W9Q6SWIT8O          4.0            0.0          0.0    N   \n",
       "4  R3QQ6NSLRVBFJC          4.0            0.0          0.0    N   \n",
       "\n",
       "  verified_purchase  \n",
       "0                 Y  \n",
       "1                 Y  \n",
       "2                 Y  \n",
       "3                 Y  \n",
       "4                 Y  "
      ]
     },
     "execution_count": 2,
     "metadata": {},
     "output_type": "execute_result"
    }
   ],
   "source": [
    "vine_df = pd.read_csv(\"vine_table.csv\")\n",
    "vine_df.head()"
   ]
  },
  {
   "cell_type": "code",
   "execution_count": 3,
   "id": "937b259c",
   "metadata": {},
   "outputs": [
    {
     "data": {
      "text/plain": [
       "review_id             object\n",
       "star_rating          float64\n",
       "helpful_votes        float64\n",
       "total_votes          float64\n",
       "vine                  object\n",
       "verified_purchase     object\n",
       "dtype: object"
      ]
     },
     "execution_count": 3,
     "metadata": {},
     "output_type": "execute_result"
    }
   ],
   "source": [
    "vine_df.dtypes"
   ]
  },
  {
   "cell_type": "code",
   "execution_count": 4,
   "id": "7f8a301e",
   "metadata": {},
   "outputs": [
    {
     "data": {
      "text/plain": [
       "(133416, 6)"
      ]
     },
     "execution_count": 4,
     "metadata": {},
     "output_type": "execute_result"
    }
   ],
   "source": [
    "vine_df2 = vine_df[vine_df[\"total_votes\"]>=20].copy()\n",
    "vine_df2.shape"
   ]
  },
  {
   "cell_type": "code",
   "execution_count": 5,
   "id": "eaec66d6",
   "metadata": {},
   "outputs": [
    {
     "data": {
      "text/plain": [
       "(121360, 6)"
      ]
     },
     "execution_count": 5,
     "metadata": {},
     "output_type": "execute_result"
    }
   ],
   "source": [
    "vine_df3 = vine_df2[vine_df2[\"helpful_votes\"]/vine_df2[\"total_votes\"]>=0.5].copy()\n",
    "vine_df3.shape"
   ]
  },
  {
   "cell_type": "code",
   "execution_count": 6,
   "id": "05bcd6c6",
   "metadata": {},
   "outputs": [
    {
     "data": {
      "text/plain": [
       "(497, 6)"
      ]
     },
     "execution_count": 6,
     "metadata": {},
     "output_type": "execute_result"
    }
   ],
   "source": [
    "vine_df_Y = vine_df3[vine_df3[\"vine\"]==\"Y\"].copy()\n",
    "vine_df_Y.shape"
   ]
  },
  {
   "cell_type": "code",
   "execution_count": 7,
   "id": "ee019814",
   "metadata": {},
   "outputs": [
    {
     "data": {
      "text/plain": [
       "(120863, 6)"
      ]
     },
     "execution_count": 7,
     "metadata": {},
     "output_type": "execute_result"
    }
   ],
   "source": [
    "vine_df_N = vine_df3[vine_df3[\"vine\"]==\"N\"].copy()\n",
    "vine_df_N.shape"
   ]
  },
  {
   "cell_type": "markdown",
   "id": "364cc9dc",
   "metadata": {},
   "source": [
    "# Paid Reviews Analysis"
   ]
  },
  {
   "cell_type": "code",
   "execution_count": 8,
   "id": "3bfbe325",
   "metadata": {},
   "outputs": [
    {
     "data": {
      "text/plain": [
       "497"
      ]
     },
     "execution_count": 8,
     "metadata": {},
     "output_type": "execute_result"
    }
   ],
   "source": [
    "total_reviews_paid = vine_df_Y.shape[0]\n",
    "total_reviews_paid"
   ]
  },
  {
   "cell_type": "code",
   "execution_count": 9,
   "id": "4362d958",
   "metadata": {},
   "outputs": [
    {
     "data": {
      "text/plain": [
       "220"
      ]
     },
     "execution_count": 9,
     "metadata": {},
     "output_type": "execute_result"
    }
   ],
   "source": [
    "vine_df_Y_5star = vine_df_Y[vine_df_Y[\"star_rating\"]==5].copy()\n",
    "total_reviews_paid_5star = vine_df_Y_5star.shape[0]\n",
    "total_reviews_paid_5star"
   ]
  },
  {
   "cell_type": "code",
   "execution_count": 10,
   "id": "291635f4",
   "metadata": {},
   "outputs": [
    {
     "data": {
      "text/plain": [
       "0.4426559356136821"
      ]
     },
     "execution_count": 10,
     "metadata": {},
     "output_type": "execute_result"
    }
   ],
   "source": [
    "percentage_reviews_paid = total_reviews_paid_5star/total_reviews_paid\n",
    "percentage_reviews_paid"
   ]
  },
  {
   "cell_type": "markdown",
   "id": "ed831e94",
   "metadata": {},
   "source": [
    "# Unpaid Reviews Analysis"
   ]
  },
  {
   "cell_type": "code",
   "execution_count": 11,
   "id": "9c9a620d",
   "metadata": {},
   "outputs": [
    {
     "data": {
      "text/plain": [
       "120863"
      ]
     },
     "execution_count": 11,
     "metadata": {},
     "output_type": "execute_result"
    }
   ],
   "source": [
    "total_reviews_unpaid = vine_df_N.shape[0]\n",
    "total_reviews_unpaid"
   ]
  },
  {
   "cell_type": "code",
   "execution_count": 12,
   "id": "5b7365ae",
   "metadata": {},
   "outputs": [
    {
     "data": {
      "text/plain": [
       "74470"
      ]
     },
     "execution_count": 12,
     "metadata": {},
     "output_type": "execute_result"
    }
   ],
   "source": [
    "vine_df_N_5star = vine_df_N[vine_df_N[\"star_rating\"]==5].copy()\n",
    "total_reviews_unpaid_5star = vine_df_N_5star.shape[0]\n",
    "total_reviews_unpaid_5star"
   ]
  },
  {
   "cell_type": "code",
   "execution_count": 13,
   "id": "fb7c5f03",
   "metadata": {},
   "outputs": [
    {
     "data": {
      "text/plain": [
       "0.6161521722942506"
      ]
     },
     "execution_count": 13,
     "metadata": {},
     "output_type": "execute_result"
    }
   ],
   "source": [
    "percentage_reviews_unpaid = total_reviews_unpaid_5star/total_reviews_unpaid\n",
    "percentage_reviews_unpaid"
   ]
  },
  {
   "cell_type": "code",
   "execution_count": null,
   "id": "a6f36465",
   "metadata": {},
   "outputs": [],
   "source": []
  }
 ],
 "metadata": {
  "kernelspec": {
   "display_name": "PythonData",
   "language": "python",
   "name": "pythondata"
  },
  "language_info": {
   "codemirror_mode": {
    "name": "ipython",
    "version": 3
   },
   "file_extension": ".py",
   "mimetype": "text/x-python",
   "name": "python",
   "nbconvert_exporter": "python",
   "pygments_lexer": "ipython3",
   "version": "3.7.13"
  }
 },
 "nbformat": 4,
 "nbformat_minor": 5
}
